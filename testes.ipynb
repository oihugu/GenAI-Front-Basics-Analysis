{
 "cells": [
  {
   "cell_type": "code",
   "execution_count": 12,
   "metadata": {},
   "outputs": [
    {
     "name": "stderr",
     "output_type": "stream",
     "text": [
      "<>:4: SyntaxWarning: invalid escape sequence '\\P'\n",
      "<>:4: SyntaxWarning: invalid escape sequence '\\P'\n",
      "C:\\Users\\Hugo\\AppData\\Local\\Temp\\ipykernel_18144\\3841574153.py:4: SyntaxWarning: invalid escape sequence '\\P'\n",
      "  df = pd.read_csv(\"data\\PlanosCelular-Planos.csv\")\n"
     ]
    }
   ],
   "source": [
    "import pandas as pd\n",
    "import json\n",
    "\n",
    "df = pd.read_csv(\"data\\PlanosCelular-Planos.csv\")\n",
    "df.set_index(\"Nome\", inplace=True)"
   ]
  },
  {
   "cell_type": "code",
   "execution_count": 18,
   "metadata": {},
   "outputs": [
    {
     "name": "stderr",
     "output_type": "stream",
     "text": [
      "<>:4: SyntaxWarning: invalid escape sequence '\\P'\n",
      "<>:4: SyntaxWarning: invalid escape sequence '\\P'\n",
      "C:\\Users\\Hugo\\AppData\\Local\\Temp\\ipykernel_18144\\2665131966.py:4: SyntaxWarning: invalid escape sequence '\\P'\n",
      "  with open(\"data\\PlanosCelular-Planos.json\", \"w\", encoding=\"utf-8\") as f:\n"
     ]
    }
   ],
   "source": [
    "json_df = df.to_json(orient=\"index\")\n",
    "\n",
    "#Save to file with identation and utf-8 encoding\n",
    "with open(\"data\\PlanosCelular-Planos.json\", \"w\", encoding=\"utf-8\") as f:\n",
    "    f.write(json.dumps(json.loads(json_df), indent=4, ensure_ascii=False))"
   ]
  },
  {
   "cell_type": "code",
   "execution_count": null,
   "metadata": {},
   "outputs": [],
   "source": []
  }
 ],
 "metadata": {
  "kernelspec": {
   "display_name": "streamlit",
   "language": "python",
   "name": "python3"
  },
  "language_info": {
   "codemirror_mode": {
    "name": "ipython",
    "version": 3
   },
   "file_extension": ".py",
   "mimetype": "text/x-python",
   "name": "python",
   "nbconvert_exporter": "python",
   "pygments_lexer": "ipython3",
   "version": "3.12.0"
  }
 },
 "nbformat": 4,
 "nbformat_minor": 2
}
